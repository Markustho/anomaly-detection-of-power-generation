{
 "cells": [
  {
   "cell_type": "code",
   "execution_count": 1,
   "metadata": {},
   "outputs": [],
   "source": [
    "import torch\n",
    "import torch.nn as nn\n",
    "import torch.optim as optim\n",
    "from fastai.vision.all import *\n"
   ]
  },
  {
   "cell_type": "code",
   "execution_count": 2,
   "metadata": {},
   "outputs": [],
   "source": [
    "\n",
    "\n",
    "class PhysicsInformedLoss(nn.Module):\n",
    "    def __init__(self, bem_theory_fn, parametric_model_fn, lambda_betz=0.1, lambda_bem=0.1, lambda_param=0.1):\n",
    "        super(PhysicsInformedLoss, self).__init__()\n",
    "        self.bem_theory_fn = bem_theory_fn  # function or model to compute BEM prediction\n",
    "        self.parametric_model_fn = parametric_model_fn  # function to get parametric model prediction\n",
    "        self.lambda_betz = lambda_betz  # Betz constraint weight\n",
    "        self.lambda_bem = lambda_bem    # BEM theory constraint weight\n",
    "        self.lambda_param = lambda_param  # Parametric model constraint weight\n",
    "    \n",
    "    def forward(self, cp_pred, cp_actual, inputs):\n",
    "        # Standard data-driven loss (MSE between prediction and actual Cp)\n",
    "        mse_loss = nn.MSELoss()(cp_pred, cp_actual)\n",
    "        \n",
    "        # Betz's limit penalty: Encourage Cp to be below Betz limit (0.593)\n",
    "        betz_penalty = torch.mean(torch.relu(cp_pred - 0.593))\n",
    "        \n",
    "        # BEM theory penalty: Penalize deviations from BEM theory\n",
    "        cp_bem = self.bem_theory_fn(inputs)  # BEM-predicted Cp\n",
    "        bem_penalty = nn.MSELoss()(cp_pred, cp_bem)\n",
    "        \n",
    "        # Parametric model penalty: Penalize deviations from parametric model\n",
    "        cp_param = self.parametric_model_fn(inputs)  # Parametric-predicted Cp\n",
    "        param_penalty = nn.MSELoss()(cp_pred, cp_param)\n",
    "        \n",
    "        # Total loss\n",
    "        loss = mse_loss + self.lambda_betz * betz_penalty + self.lambda_bem * bem_penalty + self.lambda_param * param_penalty\n",
    "        return loss\n"
   ]
  },
  {
   "cell_type": "code",
   "execution_count": 3,
   "metadata": {},
   "outputs": [],
   "source": [
    "def bem_theory_fn(inputs):\n",
    "    # Example: simple formula based on inputs, or a neural network model if complex\n",
    "    # inputs could be: wind_speed, rotor_speed, etc.\n",
    "    # This should return a tensor of cp values according to BEM theory\n",
    "    wind_speed, rotor_speed = inputs[:, 0], inputs[:, 1]\n",
    "    cp_bem = 0.5 * (wind_speed - rotor_speed)  # Simplified example\n",
    "    return cp_bem\n",
    "\n",
    "def parametric_model_fn(inputs):\n",
    "    # Similar to bem_theory_fn, this could be a simple function or a model.\n",
    "    wind_speed, rotor_speed = inputs[:, 0], inputs[:, 1]\n",
    "    cp_param = 0.4 * (wind_speed ** 2) - 0.3 * rotor_speed  # Simplified example\n",
    "    return cp_param\n"
   ]
  },
  {
   "cell_type": "code",
   "execution_count": null,
   "metadata": {},
   "outputs": [],
   "source": [
    "class CpPredictionModel(nn.Module):\n",
    "    def __init__(self, input_dim):\n",
    "        super(CpPredictionModel, self).__init__()\n",
    "        self.fc1 = nn.Linear(input_dim, 64)\n",
    "        self.fc2 = nn.Linear(64, 128)\n",
    "        self.fc3 = nn.Linear(128, 64)\n",
    "        self.fc4 = nn.Linear(64, 1)\n",
    "    \n",
    "    def forward(self, x):\n",
    "        x = torch.relu(self.fc1(x))\n",
    "        x = torch.relu(self.fc2(x))\n",
    "        x = torch.relu(self.fc3(x))\n",
    "        x = self.fc4(x)\n",
    "        return x\n"
   ]
  },
  {
   "cell_type": "code",
   "execution_count": null,
   "metadata": {},
   "outputs": [],
   "source": [
    "# Create your dataset (example: X and y tensors for inputs and actual Cp values)\n",
    "dls = DataLoaders.from_dsets(TensorDataset(X_train, y_train), TensorDataset(X_valid, y_valid), bs=64)\n",
    "\n",
    "# Instantiate the model\n",
    "model = CpPredictionModel(input_dim=X_train.shape[1])\n",
    "\n",
    "# Define the custom loss function with BEM and parametric functions\n",
    "loss_func = PhysicsInformedLoss(bem_theory_fn, parametric_model_fn, lambda_betz=0.1, lambda_bem=0.2, lambda_param=0.3)\n",
    "\n",
    "# Set up the FastAI Learner\n",
    "learn = Learner(dls, model, loss_func=loss_func, metrics=rmse)\n",
    "\n",
    "# Train the model\n",
    "learn.fit_one_cycle(10, lr_max=1e-3)\n"
   ]
  }
 ],
 "metadata": {
  "kernelspec": {
   "display_name": "Python 3",
   "language": "python",
   "name": "python3"
  },
  "language_info": {
   "codemirror_mode": {
    "name": "ipython",
    "version": 3
   },
   "file_extension": ".py",
   "mimetype": "text/x-python",
   "name": "python",
   "nbconvert_exporter": "python",
   "pygments_lexer": "ipython3",
   "version": "3.11.2"
  }
 },
 "nbformat": 4,
 "nbformat_minor": 2
}
